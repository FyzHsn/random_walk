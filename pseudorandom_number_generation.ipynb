{
 "cells": [
  {
   "cell_type": "markdown",
   "metadata": {},
   "source": [
    "## Linear Congruential Generator"
   ]
  },
  {
   "cell_type": "code",
   "execution_count": 1,
   "metadata": {},
   "outputs": [],
   "source": [
    "import matplotlib.pyplot as plt\n",
    "import numpy as np"
   ]
  },
  {
   "cell_type": "code",
   "execution_count": 2,
   "metadata": {},
   "outputs": [],
   "source": [
    "def lcg(n):\n",
    "    \"\"\"\n",
    "    n: number of prns\n",
    "    \"\"\"\n",
    "    \n",
    "    a = 1664525\n",
    "    c = 1013904223\n",
    "    m = 2**32\n",
    "    prns = np.zeros(n + 1)\n",
    "        \n",
    "    for i in range(n):\n",
    "        prns[i + 1] = (a * prns[i] + c) % m\n",
    "\n",
    "    return prns[1:] / m"
   ]
  },
  {
   "cell_type": "code",
   "execution_count": 3,
   "metadata": {},
   "outputs": [
    {
     "data": {
      "image/png": "[encoded data removed]",
      "text/plain": [
       "<Figure size 432x288 with 1 Axes>"
      ]
     },
     "metadata": {
      "needs_background": "light"
     },
     "output_type": "display_data"
    }
   ],
   "source": [
    "plt.hist(lcg(10000), bins=20, edgecolor='black')\n",
    "plt.show()"
   ]
  },
  {
   "cell_type": "markdown",
   "metadata": {},
   "source": [
    "# Inverse Transform Sampling For Exponential Function\n",
    "Probability density function: $\\rho(x) = \\lambda e^{-\\lambda x}$\n",
    "\n",
    "Cumulative distribution function (CDF): $1 - e^{-\\lambda x}$\n",
    "\n",
    "Inverse CDF: $\\frac{1}{\\lambda} \\ln (1 - y)$"
   ]
  },
  {
   "cell_type": "code",
   "execution_count": 22,
   "metadata": {},
   "outputs": [],
   "source": [
    "def icdf_exp(y):\n",
    "    return np.log(1 - y) / 0.5\n",
    "\n",
    "unif_nums = lcg(10000)\n",
    "exp_nums = [icdf_exp(y) for y in unif_nums]"
   ]
  },
  {
   "cell_type": "code",
   "execution_count": 23,
   "metadata": {
    "scrolled": true
   },
   "outputs": [
    {
     "data": {
      "image/png": "[encoded data removed]",
      "text/plain": [
       "<Figure size 432x288 with 1 Axes>"
      ]
     },
     "metadata": {
      "needs_background": "light"
     },
     "output_type": "display_data"
    }
   ],
   "source": [
    "plt.hist(exp_nums, bins=20, edgecolor='black')\n",
    "plt.show()"
   ]
  },
  {
   "cell_type": "markdown",
   "metadata": {},
   "source": [
    "# Inverse Transform Sampling For Coin Toss Noise\n",
    "Consider the biased coin that lands heads (0) and tails (1) with probability $\\frac{1}{2}$. Here, we implement the inverse CDF approach to sampling from 2, 3, 4 and 5 coin tosses."
   ]
  },
  {
   "cell_type": "code",
   "execution_count": 27,
   "metadata": {},
   "outputs": [
    {
     "data": {
      "image/png": "[encoded data removed]",
      "text/plain": [
       "<Figure size 432x288 with 1 Axes>"
      ]
     },
     "metadata": {
      "needs_background": "light"
     },
     "output_type": "display_data"
    }
   ],
   "source": [
    "def two_coins(y):\n",
    "    if y >= 0 and y < 0.25:\n",
    "        return -1.\n",
    "    elif y >= 0.25 and y < 0.75:\n",
    "        return 0.\n",
    "    else:\n",
    "        return 1.\n",
    "    \n",
    "coin_toss = [two_coins(y) for y in unif_nums]\n",
    "plt.hist(coin_toss, edgecolor='black', align='left')\n",
    "plt.show()"
   ]
  },
  {
   "cell_type": "code",
   "execution_count": 26,
   "metadata": {},
   "outputs": [
    {
     "data": {
      "image/png": "[encoded data removed]",
      "text/plain": [
       "<Figure size 432x288 with 1 Axes>"
      ]
     },
     "metadata": {
      "needs_background": "light"
     },
     "output_type": "display_data"
    }
   ],
   "source": [
    "def three_coins(y):\n",
    "    if y >= 0 and y < 0.125:\n",
    "        return -1.5\n",
    "    elif y >= 0.125 and y < 0.5:\n",
    "        return -0.5\n",
    "    elif y >= 0.5 and y < 0.875:\n",
    "        return 0.5\n",
    "    else:\n",
    "        return 1.5\n",
    "    \n",
    "coin_toss = [three_coins(y) for y in unif_nums]\n",
    "plt.hist(coin_toss, edgecolor='black', align='mid')\n",
    "plt.show()"
   ]
  },
  {
   "cell_type": "markdown",
   "metadata": {},
   "source": [
    "## Non-normalized Linear Congruential Generator"
   ]
  },
  {
   "cell_type": "code",
   "execution_count": 214,
   "metadata": {},
   "outputs": [],
   "source": [
    "def modified_lcg(n, n_bits=3):\n",
    "    \"\"\"\n",
    "    n: number of prns\n",
    "    n_bit: number of bits to keep from the prns\n",
    "    \"\"\"\n",
    "    \n",
    "    a = 1664525\n",
    "    c = 1013904223\n",
    "    m = 2**32\n",
    "    prns = np.zeros(n + 1)\n",
    "        \n",
    "    for i in range(n):\n",
    "        prns[i + 1] = (a * prns[i] + c) % m\n",
    "\n",
    "    n_bit_prns = [int(bin(int(prn))[2:][(-n_bits):], 2) for prn in prns[1:]]\n",
    "    return n_bit_prns"
   ]
  },
  {
   "cell_type": "code",
   "execution_count": 216,
   "metadata": {},
   "outputs": [
    {
     "data": {
      "image/png": "[encoded data removed]",
      "text/plain": [
       "<Figure size 432x288 with 1 Axes>"
      ]
     },
     "metadata": {
      "needs_background": "light"
     },
     "output_type": "display_data"
    }
   ],
   "source": [
    "plt.hist(modified_lcg(200, 6), bins=np.linspace(0, 8, 17))\n",
    "plt.show()"
   ]
  },
  {
   "cell_type": "code",
   "execution_count": 217,
   "metadata": {},
   "outputs": [
    {
     "data": {
      "image/png": "[encoded data removed]",
      "text/plain": [
       "<Figure size 432x288 with 1 Axes>"
      ]
     },
     "metadata": {
      "needs_background": "light"
     },
     "output_type": "display_data"
    }
   ],
   "source": [
    "prns = lcg(1500)\n",
    "x = prns[:-1]\n",
    "y = prns[1:]\n",
    "plt.scatter(x, y)\n",
    "plt.show()"
   ]
  },
  {
   "cell_type": "code",
   "execution_count": 218,
   "metadata": {},
   "outputs": [
    {
     "data": {
      "image/png": "[encoded data removed]",
      "text/plain": [
       "<Figure size 432x288 with 1 Axes>"
      ]
     },
     "metadata": {
      "needs_background": "light"
     },
     "output_type": "display_data"
    }
   ],
   "source": [
    "prns = modified_lcg(68, 6)\n",
    "x = prns[:-1]\n",
    "y = prns[1:]\n",
    "plt.scatter(x, y)\n",
    "plt.xlabel('prn_i')\n",
    "plt.ylabel('prn_i+1')\n",
    "plt.title('Periodicity of truncated bits from LCG')\n",
    "plt.show()"
   ]
  },
  {
   "cell_type": "code",
   "execution_count": 99,
   "metadata": {},
   "outputs": [],
   "source": [
    "def modified_three_coins(y):\n",
    "    if y == 0:\n",
    "        return -1.5\n",
    "    elif y == 1 or y == 2 or y == 3:\n",
    "        return -0.5\n",
    "    elif y == 4 or y == 5 or y == 6:\n",
    "        return 0.5\n",
    "    elif y == 7: \n",
    "        return 1.5"
   ]
  },
  {
   "cell_type": "code",
   "execution_count": 100,
   "metadata": {},
   "outputs": [
    {
     "data": {
      "image/png": "[encoded data removed]",
      "text/plain": [
       "<Figure size 432x288 with 1 Axes>"
      ]
     },
     "metadata": {
      "needs_background": "light"
     },
     "output_type": "display_data"
    }
   ],
   "source": [
    "coin_toss = [modified_three_coins(y) for y in modified_lcg(n=100, n_bits=3)]\n",
    "plt.hist(coin_toss, edgecolor='black', align='mid')\n",
    "plt.show()"
   ]
  },
  {
   "cell_type": "markdown",
   "metadata": {},
   "source": [
    "## Truncated Gaussians For 3 Coins"
   ]
  },
  {
   "cell_type": "code",
   "execution_count": 132,
   "metadata": {},
   "outputs": [],
   "source": [
    "a = np.array([-1.5, -0.5, 0.5, 1.5])"
   ]
  },
  {
   "cell_type": "code",
   "execution_count": 133,
   "metadata": {},
   "outputs": [
    {
     "data": {
      "text/plain": [
       "array([0.13447071, 0.36552929, 0.36552929, 0.13447071])"
      ]
     },
     "execution_count": 133,
     "metadata": {},
     "output_type": "execute_result"
    }
   ],
   "source": [
    "b = np.exp(-a**2 / 2) / np.sqrt(2 * np.pi)\n",
    "c = b / np.sum(b)\n",
    "c"
   ]
  },
  {
   "cell_type": "code",
   "execution_count": 134,
   "metadata": {},
   "outputs": [],
   "source": [
    "three_coin_binomial_noise = np.array([0.125, 0.375, 0.375, 0.125])"
   ]
  },
  {
   "cell_type": "code",
   "execution_count": 135,
   "metadata": {},
   "outputs": [
    {
     "data": {
      "text/plain": [
       "(1.0, 1.0)"
      ]
     },
     "execution_count": 135,
     "metadata": {},
     "output_type": "execute_result"
    }
   ],
   "source": [
    "np.sum(three_coin_binomial_noise), np.sum(c)"
   ]
  },
  {
   "cell_type": "code",
   "execution_count": 136,
   "metadata": {},
   "outputs": [
    {
     "data": {
      "text/plain": [
       "0.8660254037844386"
      ]
     },
     "execution_count": 136,
     "metadata": {},
     "output_type": "execute_result"
    }
   ],
   "source": [
    "0.5 * np.sqrt(3)"
   ]
  },
  {
   "cell_type": "markdown",
   "metadata": {},
   "source": [
    "## Truncated Gaussians For 4 Coins"
   ]
  },
  {
   "cell_type": "code",
   "execution_count": 137,
   "metadata": {},
   "outputs": [
    {
     "data": {
      "text/plain": [
       "array([0.05448868, 0.24420134, 0.40261995, 0.24420134, 0.05448868])"
      ]
     },
     "execution_count": 137,
     "metadata": {},
     "output_type": "execute_result"
    }
   ],
   "source": [
    "a = np.array([-2, -1, 0, 1, 2])\n",
    "b = np.exp(-a**2 / 2) / np.sqrt(2 * np.pi)\n",
    "c = b / np.sum(b)\n",
    "c"
   ]
  },
  {
   "cell_type": "code",
   "execution_count": 138,
   "metadata": {},
   "outputs": [
    {
     "data": {
      "text/plain": [
       "array([0.0625, 0.25  , 0.375 , 0.25  , 0.0625])"
      ]
     },
     "execution_count": 138,
     "metadata": {},
     "output_type": "execute_result"
    }
   ],
   "source": [
    "four_coin_binomial_noise = np.array([1./16, 1./4, 3./8, 1./4, 1./16])\n",
    "four_coin_binomial_noise"
   ]
  },
  {
   "cell_type": "code",
   "execution_count": 139,
   "metadata": {},
   "outputs": [
    {
     "data": {
      "text/plain": [
       "1.0"
      ]
     },
     "execution_count": 139,
     "metadata": {},
     "output_type": "execute_result"
    }
   ],
   "source": [
    "0.5 * np.sqrt(4)"
   ]
  },
  {
   "cell_type": "code",
   "execution_count": 225,
   "metadata": {},
   "outputs": [
    {
     "data": {
      "text/plain": [
       "array([4., 6., 2., 3., 1., 5., 4., 6., 2., 3., 1.])"
      ]
     },
     "execution_count": 225,
     "metadata": {},
     "output_type": "execute_result"
    }
   ],
   "source": [
    "def lcg(n):\n",
    "    \"\"\"\n",
    "    n: number of prns\n",
    "    \"\"\"\n",
    "    \n",
    "    a = 5\n",
    "    c = 0\n",
    "    m = 7\n",
    "    prns = np.zeros(n + 1)\n",
    "    prns[0] = 4\n",
    "        \n",
    "    for i in range(n):\n",
    "        prns[i + 1] = (a * prns[i] + c) % m\n",
    "\n",
    "    return prns\n",
    "\n",
    "lcg(10)"
   ]
  },
  {
   "cell_type": "code",
   "execution_count": 227,
   "metadata": {},
   "outputs": [
    {
     "data": {
      "text/plain": [
       "0.14285714285714285"
      ]
     },
     "execution_count": 227,
     "metadata": {},
     "output_type": "execute_result"
    }
   ],
   "source": [
    "1/7."
   ]
  },
  {
   "cell_type": "code",
   "execution_count": null,
   "metadata": {},
   "outputs": [],
   "source": []
  }
 ],
 "metadata": {
  "kernelspec": {
   "display_name": "Python 3",
   "language": "python",
   "name": "python3"
  },
  "language_info": {
   "codemirror_mode": {
    "name": "ipython",
    "version": 3
   },
   "file_extension": ".py",
   "mimetype": "text/x-python",
   "name": "python",
   "nbconvert_exporter": "python",
   "pygments_lexer": "ipython3",
   "version": "3.8.2"
  }
 },
 "nbformat": 4,
 "nbformat_minor": 4
}
